{
  "nbformat": 4,
  "nbformat_minor": 0,
  "metadata": {
    "colab": {
      "provenance": []
    },
    "kernelspec": {
      "name": "python3",
      "display_name": "Python 3"
    },
    "language_info": {
      "name": "python"
    }
  },
  "cells": [
    {
      "cell_type": "markdown",
      "source": [
        "# Spam detektáló - MLOps vizsgamunka - Fehér Péter - V2\n",
        "\n",
        "##Dataset:\n",
        "https://www.kaggle.com/datasets/uciml/sms-spam-collection-dataset"
      ],
      "metadata": {
        "id": "iADXQUQX7Nac"
      }
    },
    {
      "cell_type": "markdown",
      "source": [
        "##1. Előkészítés\n",
        "\n",
        "Első lépésként szükséges python-csomagok importálása."
      ],
      "metadata": {
        "id": "eAcFOQ4n7U4z"
      }
    },
    {
      "cell_type": "code",
      "execution_count": 53,
      "metadata": {
        "id": "R2HP0Y-gyij_"
      },
      "outputs": [],
      "source": [
        "import os\n",
        "import json\n",
        "import pickle\n",
        "import logging\n",
        "import warnings\n",
        "from datetime import datetime\n",
        "\n",
        "import numpy as np\n",
        "import pandas as pd\n",
        "import matplotlib.pyplot as plt\n",
        "\n",
        "from sklearn.model_selection import train_test_split, GridSearchCV, cross_val_score\n",
        "from sklearn.feature_extraction.text import CountVectorizer, TfidfVectorizer\n",
        "from sklearn.naive_bayes import MultinomialNB\n",
        "from sklearn.linear_model import LogisticRegression\n",
        "from sklearn.svm import SVC\n",
        "from sklearn.ensemble import RandomForestClassifier\n",
        "from sklearn.metrics import (\n",
        "    classification_report,\n",
        "    accuracy_score,\n",
        "    confusion_matrix,\n",
        "    roc_auc_score,\n",
        "    roc_curve\n",
        ")"
      ]
    },
    {
      "cell_type": "markdown",
      "source": [
        "##Logging beállítása"
      ],
      "metadata": {
        "id": "2lWGVjnd7bRU"
      }
    },
    {
      "cell_type": "code",
      "source": [
        "LOG_DIR = \"logs\"\n",
        "if not os.path.exists(LOG_DIR):\n",
        "    os.makedirs(LOG_DIR, exist_ok=True)\n",
        "\n",
        "log_filepath = os.path.join(LOG_DIR, \"notebook_training.log\")\n",
        "\n",
        "for handler in logging.root.handlers[:]:\n",
        "    logging.root.removeHandler(handler)\n",
        "\n",
        "logging.basicConfig(\n",
        "    level=logging.INFO,\n",
        "    format=\"%(asctime)s - %(levelname)s - %(message)s\",\n",
        "    handlers=[\n",
        "        logging.FileHandler(log_filepath, mode='a', encoding='utf-8'),\n",
        "        logging.StreamHandler()\n",
        "    ]\n",
        ")\n",
        "\n",
        "logger = logging.getLogger(__name__)"
      ],
      "metadata": {
        "id": "2hjRrmD9yo9U"
      },
      "execution_count": 54,
      "outputs": []
    },
    {
      "cell_type": "markdown",
      "source": [
        "## Függvények definiálása"
      ],
      "metadata": {
        "id": "kuHW46VI7x71"
      }
    },
    {
      "cell_type": "markdown",
      "source": [
        "Adat validáció függvény"
      ],
      "metadata": {
        "id": "5IQpPl-I8Mbm"
      }
    },
    {
      "cell_type": "code",
      "source": [
        "def validate_data(df):\n",
        "    logger.info(\"Adat validáció indítása...\")\n",
        "    if df.isnull().any().any():\n",
        "        raise ValueError(\"Hiányzó értékek találhatók az adatban!\")\n",
        "    if len(df) < 1000:\n",
        "        raise ValueError(f\"Az adathalmaz túl kicsi: {len(df)} sor\")\n",
        "    spam_ratio = (df['label'] == 'spam').mean()\n",
        "    if not (0.05 < spam_ratio < 0.5):\n",
        "        logger.warning(f\"Szokatlan spam arány: {spam_ratio:.3f}\")\n",
        "    logger.info(f\"Validáció sikeres. Adatméret: {len(df)}, Spam arány: {spam_ratio:.3f}\")\n",
        "    return True"
      ],
      "metadata": {
        "id": "0xYU8SyAytnO"
      },
      "execution_count": 55,
      "outputs": []
    },
    {
      "cell_type": "markdown",
      "source": [
        "Metrikák mentése függvény"
      ],
      "metadata": {
        "id": "FZfA_bUi8Ihq"
      }
    },
    {
      "cell_type": "code",
      "source": [
        "def save_metrics(metrics, filepath='artifacts/training_metrics.json'):\n",
        "    os.makedirs(os.path.dirname(filepath), exist_ok=True)\n",
        "    metrics['timestamp'] = datetime.now().isoformat()\n",
        "    with open(filepath, 'w', encoding='utf-8') as f:\n",
        "        json.dump(metrics, f, indent=2, ensure_ascii=False)\n",
        "    logger.info(f\"Metrikák elmentve: {filepath}\")"
      ],
      "metadata": {
        "id": "I3AkxYB0y0U9"
      },
      "execution_count": 57,
      "outputs": []
    },
    {
      "cell_type": "markdown",
      "source": [
        "Vektorizálók összehasonlítása függvény"
      ],
      "metadata": {
        "id": "NTz26_tk79l3"
      }
    },
    {
      "cell_type": "code",
      "source": [
        "def compare_vectorizers(X_train, X_test, y_train, y_test):\n",
        "    logger.info(\"Vektorizálók összehasonlítása...\")\n",
        "\n",
        "    vectorizers = {\n",
        "        'CountVectorizer': CountVectorizer(lowercase=True, stop_words='english', max_features=10000),\n",
        "        'TfidfVectorizer': TfidfVectorizer(lowercase=True, stop_words='english', max_features=10000)\n",
        "    }\n",
        "    vectorizer_results = {}\n",
        "\n",
        "    for name, vec in vectorizers.items():\n",
        "        logger.info(f\"-> Tesztelés: {name}\")\n",
        "        X_train_vec = vec.fit_transform(X_train)\n",
        "        X_test_vec = vec.transform(X_test)\n",
        "        clf = MultinomialNB()\n",
        "        clf.fit(X_train_vec, y_train)\n",
        "        y_pred = clf.predict(X_test_vec)\n",
        "        accuracy = accuracy_score(y_test, y_pred)\n",
        "        vectorizer_results[name] = {\n",
        "            'accuracy': accuracy,\n",
        "            'vectorizer': vec\n",
        "        }\n",
        "        logger.info(f\"    - {name} accuracy: {accuracy:.4f}\")\n",
        "\n",
        "    best_name = max(vectorizer_results, key=lambda nm: vectorizer_results[nm]['accuracy'])\n",
        "    best_vectorizer = vectorizer_results[best_name]['vectorizer']\n",
        "    logger.info(f\"Legjobb vektorizáló: {best_name} (accuracy={vectorizer_results[best_name]['accuracy']:.4f})\")\n",
        "    return best_vectorizer, vectorizer_results"
      ],
      "metadata": {
        "id": "LRmXPG65y6Mm"
      },
      "execution_count": 58,
      "outputs": []
    },
    {
      "cell_type": "markdown",
      "source": [
        "Modellek összehasonlítása függvény\n",
        "\n",
        "* Multinomial\n",
        "* Logisticregression\n",
        "* Randomforest\n",
        "* SVC"
      ],
      "metadata": {
        "id": "0y1xYRyk8hQ_"
      }
    },
    {
      "cell_type": "code",
      "source": [
        "def compare_models_with_hyperparameter_tuning(X_train_vec, X_test_vec, y_train, y_test):\n",
        "    logger.info(\"Modellek összehasonlítása hiperparaméter-optimalizálással...\")\n",
        "\n",
        "    models_config = {\n",
        "        'MultinomialNB': {\n",
        "            'model': MultinomialNB(),\n",
        "            'params': {'alpha': [0.1, 0.5, 1.0, 2.0, 5.0]}\n",
        "        },\n",
        "        'LogisticRegression': {\n",
        "            'model': LogisticRegression(random_state=42, max_iter=1000),\n",
        "            'params': {'C': [0.1, 1.0, 10.0, 100.0], 'solver': ['liblinear', 'lbfgs']}\n",
        "        },\n",
        "        'RandomForest': {\n",
        "            'model': RandomForestClassifier(random_state=42, n_jobs=-1),\n",
        "            'params': {'n_estimators': [50, 100, 200], 'max_depth': [10, 20, None], 'min_samples_split': [2, 5]}\n",
        "        },\n",
        "        'SVM': {\n",
        "            'model': SVC(random_state=42, probability=True),\n",
        "            'params': {'C': [0.1, 1.0, 10.0], 'kernel': ['linear', 'rbf'], 'gamma': ['scale', 'auto']}\n",
        "        }\n",
        "    }\n",
        "\n",
        "    model_results = {}\n",
        "\n",
        "    for name, cfg in models_config.items():\n",
        "        logger.info(f\" Hiperparaméter-optimalizálás: {name}\")\n",
        "        try:\n",
        "            gs = GridSearchCV(\n",
        "                estimator=cfg['model'],\n",
        "                param_grid=cfg['params'],\n",
        "                cv=5,\n",
        "                scoring='accuracy',\n",
        "                n_jobs=-1,\n",
        "                verbose=0\n",
        "            )\n",
        "            gs.fit(X_train_vec, y_train)\n",
        "            best_clf = gs.best_estimator_\n",
        "            y_pred = best_clf.predict(X_test_vec)\n",
        "            y_proba = best_clf.predict_proba(X_test_vec)\n",
        "\n",
        "            accuracy = accuracy_score(y_test, y_pred)\n",
        "            auc_sc = roc_auc_score(y_test, y_proba[:, 1])\n",
        "            cv_scores = cross_val_score(best_clf, X_train_vec, y_train, cv=5, scoring='accuracy')\n",
        "\n",
        "            model_results[name] = {\n",
        "                'model': best_clf,\n",
        "                'best_params': gs.best_params_,\n",
        "                'accuracy': accuracy,\n",
        "                'auc_score': auc_sc,\n",
        "                'cv_mean': cv_scores.mean(),\n",
        "                'cv_std': cv_scores.std(),\n",
        "                'y_pred': y_pred,\n",
        "                'y_pred_proba': y_proba\n",
        "            }\n",
        "\n",
        "            logger.info(\n",
        "                f\"- {name}: accuracy={accuracy:.4f}, AUC={auc_sc:.4f}, CV={cv_scores.mean():.4f}±{cv_scores.std():.4f}\"\n",
        "            )\n",
        "            logger.info(f\"Legjobb paraméterek: {gs.best_params_}\")\n",
        "        except Exception as e:\n",
        "            logger.error(f\"Hiba a {name} modellnél: {e}\")\n",
        "            continue\n",
        "\n",
        "    return model_results"
      ],
      "metadata": {
        "id": "EXIxozfzy-O0"
      },
      "execution_count": 59,
      "outputs": []
    },
    {
      "cell_type": "markdown",
      "source": [
        "## 2. Adat betöltése és előfeldolgozás\n",
        "\n",
        "File létezésének ellenőrzése, adatok beolvasása , adat validálás , EDA , train-test split."
      ],
      "metadata": {
        "id": "R4Yiumt0zd45"
      }
    },
    {
      "cell_type": "code",
      "source": [
        "data_path = os.path.join('data', 'spam.csv')\n",
        "if not os.path.exists(data_path):\n",
        "    raise FileNotFoundError(\n",
        "        f\"Nem található a dataset: {data_path}. \"\n",
        "        \"Töltsd le a 'SMS Spam Collection Dataset'-et, és helyezd a 'data/spam.csv' útvonalra.\"\n",
        "    )\n",
        "\n",
        "df = pd.read_csv(data_path, encoding='latin-1', usecols=['v1', 'v2'])\n",
        "df.columns = ['label', 'text']\n",
        "logger.info(f\"Adat betöltve: {len(df)} sor\")\n",
        "\n",
        "validate_data(df)\n",
        "\n",
        "label_counts = df['label'].value_counts()\n",
        "print(\"Címke-eloszlás az egész adathalmazban:\")\n",
        "print(label_counts.to_string())\n",
        "\n",
        "plt.bar(label_counts.index, label_counts.values, color=['blue','red'])\n",
        "plt.title('Címke-eloszlás (ham / spam)')\n",
        "plt.xlabel('Címke')\n",
        "plt.ylabel('Üzenetek száma')\n",
        "for i, v in enumerate(label_counts.values):\n",
        "    plt.text(i, v + 30, str(v), ha='center')\n",
        "plt.tight_layout()\n",
        "plt.show()\n",
        "\n",
        "df['label_num'] = df['label'].map({'ham': 0, 'spam': 1})\n",
        "X = df['text']\n",
        "y = df['label_num']\n",
        "\n",
        "X_train, X_test, y_train, y_test = train_test_split(\n",
        "    X, y,\n",
        "    test_size=0.20,\n",
        "    random_state=42,\n",
        "    stratify=y\n",
        ")\n",
        "\n",
        "print(f\"\\nTrain méret: {X_train.shape[0]} sor, Test méret: {X_test.shape[0]} sor\")\n"
      ],
      "metadata": {
        "colab": {
          "base_uri": "https://localhost:8080/",
          "height": 663
        },
        "id": "VFR-CDelzMXd",
        "outputId": "e3392847-a487-4998-a380-ee61dd1f4cf7"
      },
      "execution_count": 60,
      "outputs": [
        {
          "output_type": "stream",
          "name": "stderr",
          "text": [
            "2025-06-05 08:34:56,204 - INFO - Adat betöltve: 5572 sor\n",
            "2025-06-05 08:34:56,205 - INFO - Adat validáció indítása...\n",
            "2025-06-05 08:34:56,212 - INFO - Validáció sikeres. Adatméret: 5572, Spam arány: 0.134\n"
          ]
        },
        {
          "output_type": "stream",
          "name": "stdout",
          "text": [
            "Címke-eloszlás az egész adathalmazban:\n",
            "label\n",
            "ham     4825\n",
            "spam     747\n"
          ]
        },
        {
          "output_type": "display_data",
          "data": {
            "text/plain": [
              "<Figure size 800x500 with 1 Axes>"
            ],
            "image/png": "[encoded data removed]"
          },
          "metadata": {}
        },
        {
          "output_type": "stream",
          "name": "stdout",
          "text": [
            "\n",
            "Train méret: 4457 sor, Test méret: 1115 sor\n"
          ]
        }
      ]
    },
    {
      "cell_type": "markdown",
      "source": [
        "## 3. Vektorizálók összehasonlítása\n",
        "\n",
        "- Meghívjuk a `compare_vectorizers` függvényt, amely visszaadja a legjobb vektorizálót és a részletes eredményeket.  \n",
        "- A kapott `best_vectorizer`-rel előállítjuk a vektorizált mátrixokat (train és test).\n"
      ],
      "metadata": {
        "id": "GdW9fMqZzjS0"
      }
    },
    {
      "cell_type": "code",
      "source": [
        "best_vectorizer, vectorizer_results = compare_vectorizers(X_train, X_test, y_train, y_test)\n",
        "\n",
        "X_train_vec = best_vectorizer.fit_transform(X_train)\n",
        "X_test_vec = best_vectorizer.transform(X_test)\n",
        "\n",
        "print(f\"\\nLegjobb vektorizáló típusa: {type(best_vectorizer).__name__}\")\n",
        "print(f\"Vocabulary méret: {len(best_vectorizer.vocabulary_)}\")\n",
        "print(f\"Feature matrix alakja (train): {X_train_vec.shape}\")\n"
      ],
      "metadata": {
        "colab": {
          "base_uri": "https://localhost:8080/"
        },
        "id": "cGFHioiYzmD8",
        "outputId": "6d2c1a7a-892d-47ed-f101-f39be4d79439"
      },
      "execution_count": 61,
      "outputs": [
        {
          "output_type": "stream",
          "name": "stderr",
          "text": [
            "2025-06-05 08:35:00,180 - INFO - Vektorizálók összehasonlítása...\n",
            "2025-06-05 08:35:00,182 - INFO - -> Tesztelés: CountVectorizer\n",
            "2025-06-05 08:35:00,284 - INFO -     - CountVectorizer accuracy: 0.9839\n",
            "2025-06-05 08:35:00,285 - INFO - -> Tesztelés: TfidfVectorizer\n",
            "2025-06-05 08:35:00,383 - INFO -     - TfidfVectorizer accuracy: 0.9686\n",
            "2025-06-05 08:35:00,384 - INFO - Legjobb vektorizáló: CountVectorizer (accuracy=0.9839)\n"
          ]
        },
        {
          "output_type": "stream",
          "name": "stdout",
          "text": [
            "\n",
            "Legjobb vektorizáló típusa: CountVectorizer\n",
            "Vocabulary méret: 7440\n",
            "Feature matrix alakja (train): (4457, 7440)\n"
          ]
        }
      ]
    },
    {
      "cell_type": "markdown",
      "source": [
        "## 4. Modellek hiperparaméter-optimalizálása és összehasonlítása\n",
        "\n",
        "- Meghívjuk a `compare_models_with_hyperparameter_tuning` függvényt.  \n",
        "- A függvény visszaadja az egyes modellekre vonatkozó:\n",
        "  - Legjobb modell (`best_estimator_`)\n",
        "  - Legjobb hiperparaméterek\n",
        "  - Accuracy, AUC, CV-átlag és cv-szórás\n",
        "  - Tesztelés közbeni predikciók és valószínűségek  \n",
        "- Ezután kiválasztja a legjobb modellt accuracy alapján, és részletesen kiírja az eredményeket.\n"
      ],
      "metadata": {
        "id": "-CYNQu6rzpe_"
      }
    },
    {
      "cell_type": "code",
      "source": [
        "model_results = compare_models_with_hyperparameter_tuning(X_train_vec, X_test_vec, y_train, y_test)\n",
        "\n",
        "if not model_results:\n",
        "    raise RuntimeError(\"Egyik modell sem futott sikeresen!\")\n",
        "best_model_name = max(model_results, key=lambda nm: model_results[nm]['accuracy'])\n",
        "best_info = model_results[best_model_name]\n",
        "best_model = best_info['model']\n",
        "\n",
        "logger.info(f\"LEGJOBB MODELL: {best_model_name}\")\n",
        "logger.info(f\"-> Accuracy: {best_info['accuracy']:.4f}\")\n",
        "logger.info(f\"-> AUC-ROC: {best_info['auc_score']:.4f}\")\n",
        "logger.info(f\"-> CV: {best_info['cv_mean']:.4f} ± {best_info['cv_std']:.4f}\")\n",
        "\n",
        "\n",
        "y_pred_best = best_info['y_pred']\n",
        "y_proba_best = best_info['y_pred_proba']\n",
        "\n",
        "print(\"\\n\" + \"=\"*50)\n",
        "print(\"VÉGSŐ EREDMÉNYEK\")\n",
        "print(\"=\"*50)\n",
        "print(f\"Legjobb modell: {best_model_name}\")\n",
        "print(f\"Legjobb paraméterek: {best_info['best_params']}\")\n",
        "print(f\"Accuracy: {best_info['accuracy']:.4f}\")\n",
        "print(f\"AUC-ROC:  {best_info['auc_score']:.4f}\")\n",
        "print(f\"Cross-validation: {best_info['cv_mean']:.4f} ± {best_info['cv_std']:.4f}\\n\")\n",
        "\n",
        "print(\"Classification Report:\")\n",
        "print(classification_report(y_test, y_pred_best, target_names=['ham','spam']))\n",
        "conf_mat = confusion_matrix(y_test, y_pred_best)\n",
        "print(f\"Confusion Matrix:\\n[[TN: {conf_mat[0,0]}, FP: {conf_mat[0,1]}],\\n [FN: {conf_mat[1,0]}, TP: {conf_mat[1,1]}]]\")\n"
      ],
      "metadata": {
        "colab": {
          "base_uri": "https://localhost:8080/"
        },
        "id": "riLiEW0wzqUU",
        "outputId": "22b0523b-e6f6-4cd1-8a24-88ad5d794188"
      },
      "execution_count": 62,
      "outputs": [
        {
          "output_type": "stream",
          "name": "stderr",
          "text": [
            "2025-06-05 08:35:05,490 - INFO - Modellek összehasonlítása hiperparaméter-optimalizálással...\n",
            "2025-06-05 08:35:05,492 - INFO -  Hiperparaméter-optimalizálás: MultinomialNB\n",
            "2025-06-05 08:35:07,975 - INFO - - MultinomialNB: accuracy=0.9794, AUC=0.9827, CV=0.9838±0.0037\n",
            "2025-06-05 08:35:07,976 - INFO - Legjobb paraméterek: {'alpha': 5.0}\n",
            "2025-06-05 08:35:07,977 - INFO -  Hiperparaméter-optimalizálás: LogisticRegression\n",
            "2025-06-05 08:35:08,929 - INFO - - LogisticRegression: accuracy=0.9848, AUC=0.9831, CV=0.9854±0.0024\n",
            "2025-06-05 08:35:08,931 - INFO - Legjobb paraméterek: {'C': 100.0, 'solver': 'lbfgs'}\n",
            "2025-06-05 08:35:08,932 - INFO -  Hiperparaméter-optimalizálás: RandomForest\n",
            "2025-06-05 08:38:18,926 - INFO - - RandomForest: accuracy=0.9749, AUC=0.9833, CV=0.9789±0.0033\n",
            "2025-06-05 08:38:18,927 - INFO - Legjobb paraméterek: {'max_depth': None, 'min_samples_split': 5, 'n_estimators': 100}\n",
            "2025-06-05 08:38:18,929 - INFO -  Hiperparaméter-optimalizálás: SVM\n",
            "2025-06-05 08:40:20,280 - INFO - - SVM: accuracy=0.9839, AUC=0.9796, CV=0.9816±0.0025\n",
            "2025-06-05 08:40:20,281 - INFO - Legjobb paraméterek: {'C': 1.0, 'gamma': 'scale', 'kernel': 'linear'}\n",
            "2025-06-05 08:40:20,284 - INFO - LEGJOBB MODELL: LogisticRegression\n",
            "2025-06-05 08:40:20,285 - INFO - -> Accuracy: 0.9848\n",
            "2025-06-05 08:40:20,286 - INFO - -> AUC-ROC: 0.9831\n",
            "2025-06-05 08:40:20,287 - INFO - -> CV: 0.9854 ± 0.0024\n"
          ]
        },
        {
          "output_type": "stream",
          "name": "stdout",
          "text": [
            "\n",
            "==================================================\n",
            "VÉGSŐ EREDMÉNYEK\n",
            "==================================================\n",
            "Legjobb modell: LogisticRegression\n",
            "Legjobb paraméterek: {'C': 100.0, 'solver': 'lbfgs'}\n",
            "Accuracy: 0.9848\n",
            "AUC-ROC:  0.9831\n",
            "Cross-validation: 0.9854 ± 0.0024\n",
            "\n",
            "Classification Report:\n",
            "              precision    recall  f1-score   support\n",
            "\n",
            "         ham       0.98      1.00      0.99       966\n",
            "        spam       1.00      0.89      0.94       149\n",
            "\n",
            "    accuracy                           0.98      1115\n",
            "   macro avg       0.99      0.94      0.97      1115\n",
            "weighted avg       0.99      0.98      0.98      1115\n",
            "\n",
            "Confusion Matrix:\n",
            "[[TN: 966, FP: 0],\n",
            " [FN: 17, TP: 132]]\n"
          ]
        }
      ]
    },
    {
      "cell_type": "markdown",
      "source": [
        "## 5. Eredmények vizualizálása\n",
        "\n",
        "1. **Confusion Matrix ábrázolása**  \n",
        "2. **ROC-görbe megjelenítése**  \n"
      ],
      "metadata": {
        "id": "y8KTfdWdzuNQ"
      }
    },
    {
      "cell_type": "code",
      "source": [
        "cm = conf_mat\n",
        "plt.imshow(cm, interpolation='nearest', cmap='Blues')\n",
        "plt.title(\"Confusion Matrix\")\n",
        "plt.colorbar()\n",
        "tick_marks = np.arange(2)\n",
        "plt.xticks(tick_marks, ['ham', 'spam'])\n",
        "plt.yticks(tick_marks, ['ham', 'spam'])\n",
        "thresh = cm.max() / 2\n",
        "\n",
        "for i in range(cm.shape[0]):\n",
        "    for j in range(cm.shape[1]):\n",
        "        plt.text(\n",
        "            j, i, str(cm[i,j]),\n",
        "            ha='center',\n",
        "            color='white' if cm[i,j] > thresh else 'black'\n",
        "        )\n",
        "\n",
        "plt.ylabel('True label')\n",
        "plt.xlabel('Predicted label')\n",
        "plt.tight_layout()\n",
        "plt.show()\n",
        "\n",
        "fpr, tpr, thresholds = roc_curve(y_test, y_proba_best[:, 1])\n",
        "auc_score = best_info['auc_score']\n",
        "\n",
        "plt.plot(fpr, tpr, lw=2, label=f'AUC = {auc_score:.4f}')\n",
        "plt.plot([0,1], [0,1], linestyle='--', color='gray')\n",
        "plt.xlim([0.0, 1.0])\n",
        "plt.ylim([0.0, 1.05])\n",
        "plt.xlabel('False Positive Rate')\n",
        "plt.ylabel('True Positive Rate')\n",
        "plt.title('ROC curve')\n",
        "plt.legend(loc='lower right')\n",
        "plt.grid(True)\n",
        "plt.tight_layout()\n",
        "plt.show()\n"
      ],
      "metadata": {
        "colab": {
          "base_uri": "https://localhost:8080/",
          "height": 997
        },
        "id": "POq1T7XGzwYI",
        "outputId": "61ba1de3-39c4-4bb1-9a58-c25abbc71f6b"
      },
      "execution_count": 63,
      "outputs": [
        {
          "output_type": "display_data",
          "data": {
            "text/plain": [
              "<Figure size 800x500 with 2 Axes>"
            ],
            "image/png": "[encoded data removed]"
          },
          "metadata": {}
        },
        {
          "output_type": "display_data",
          "data": {
            "text/plain": [
              "<Figure size 800x500 with 1 Axes>"
            ],
            "image/png": "[encoded data removed]"
          },
          "metadata": {}
        }
      ]
    },
    {
      "cell_type": "markdown",
      "source": [
        "## 6. Extra tesztesetek kipróbálása\n",
        "\n",
        "- Néhány statikus üzenetet vektorizálok és előrejelzést készítek rájuk.  \n",
        "- Predikciót confidence értékek kiiratása.\n"
      ],
      "metadata": {
        "id": "wQf0qgc70qO2"
      }
    },
    {
      "cell_type": "code",
      "source": [
        "test_messages = [\n",
        "    \"Congrats! You've won a $1000 Walmart gift card. Go to http://you.won.com to claim now.\",\n",
        "    \"Hey, are we still on for dinner tonight?\",\n",
        "    \"Free entry in 2 a weekly competition to win FA Cup final tickets. Text FA to 845. They cost 50p.\",\n",
        "    \"Don't forget to bring your laptop tomorrow for the meeting.\"\n",
        "]\n",
        "\n",
        "print(\"EXTRA TESZTESETEK:\")\n",
        "for msg in test_messages:\n",
        "    X_sample = best_vectorizer.transform([msg])\n",
        "    pred = best_model.predict(X_sample)[0]\n",
        "    proba = best_model.predict_proba(X_sample)[0]\n",
        "    label = 'spam' if pred == 1 else 'ham'\n",
        "    confidence = proba[pred]\n",
        "    print(f\"Üzenet: \\\"{msg}\\\"\\n -> Predikció: {label}, confidence: {confidence:.4f}\\n\")\n"
      ],
      "metadata": {
        "colab": {
          "base_uri": "https://localhost:8080/"
        },
        "id": "Kz_LFK8m0sdO",
        "outputId": "3f62138a-c841-45ab-fd11-c0ead144cf44"
      },
      "execution_count": 64,
      "outputs": [
        {
          "output_type": "stream",
          "name": "stdout",
          "text": [
            "EXTRA TESZTESETEK:\n",
            "Üzenet: \"Congrats! You've won a $1000 Walmart gift card. Go to http://you.won.com to claim now.\"\n",
            " -> Predikció: spam, confidence: 1.0000\n",
            "\n",
            "Üzenet: \"Hey, are we still on for dinner tonight?\"\n",
            " -> Predikció: ham, confidence: 1.0000\n",
            "\n",
            "Üzenet: \"Free entry in 2 a weekly competition to win FA Cup final tickets. Text FA to 845. They cost 50p.\"\n",
            " -> Predikció: spam, confidence: 0.9939\n",
            "\n",
            "Üzenet: \"Don't forget to bring your laptop tomorrow for the meeting.\"\n",
            " -> Predikció: ham, confidence: 1.0000\n",
            "\n"
          ]
        }
      ]
    },
    {
      "cell_type": "markdown",
      "source": [
        "## 7. Metrikák mentése JSON-be\n",
        "\n",
        "- Az összesített metrikákat JSON formátumban elmentjük az `artifacts/training_metrics.json` fájlba.  \n",
        "- A mentett metrikák tartalmazzák az experiment információt, vektorizáló összehasonlítását, modell összehasonlítását, és a legjobb modell részletes metrikáit.\n"
      ],
      "metadata": {
        "id": "CFBBGAxv0up_"
      }
    },
    {
      "cell_type": "code",
      "source": [
        "detailed_metrics = {\n",
        "    'experiment_info': {\n",
        "        'timestamp': datetime.now().isoformat(),\n",
        "        'dataset_size': len(df),\n",
        "        'train_size': int(X_train.shape[0]),\n",
        "        'test_size': int(X_test.shape[0])\n",
        "    },\n",
        "    'vectorizer_comparison': {\n",
        "        name: {'accuracy': float(res['accuracy'])}\n",
        "        for name, res in vectorizer_results.items()\n",
        "    },\n",
        "    'best_vectorizer': type(best_vectorizer).__name__,\n",
        "    'vocabulary_size': int(len(best_vectorizer.vocabulary_)),\n",
        "    'model_comparison': {\n",
        "        name: {\n",
        "            'accuracy': float(res['accuracy']),\n",
        "            'auc_score': float(res['auc_score']),\n",
        "            'cv_mean': float(res['cv_mean']),\n",
        "            'cv_std': float(res['cv_std']),\n",
        "            'best_params': res['best_params']\n",
        "        }\n",
        "        for name, res in model_results.items()\n",
        "    },\n",
        "    'best_model': {\n",
        "        'name': best_model_name,\n",
        "        'accuracy': float(best_info['accuracy']),\n",
        "        'auc_roc': float(best_info['auc_score']),\n",
        "        'cv_mean': float(best_info['cv_mean']),\n",
        "        'cv_std': float(best_info['cv_std']),\n",
        "        'best_params': best_info['best_params'],\n",
        "        'precision_spam': float(classification_report(y_test, y_pred_best, target_names=['ham','spam'], output_dict=True)['spam']['precision']),\n",
        "        'recall_spam': float(classification_report(y_test, y_pred_best, target_names=['ham','spam'], output_dict=True)['spam']['recall']),\n",
        "        'f1_spam': float(classification_report(y_test, y_pred_best, target_names=['ham','spam'], output_dict=True)['spam']['f1-score']),\n",
        "        'confusion_matrix': conf_mat.tolist()\n",
        "    },\n",
        "    'model_version': f\"v2.0_{datetime.now().strftime('%Y%m%d_%H%M%S')}\"\n",
        "}\n",
        "\n",
        "save_metrics(detailed_metrics, filepath='artifacts/training_metrics.json')\n"
      ],
      "metadata": {
        "colab": {
          "base_uri": "https://localhost:8080/"
        },
        "id": "dxH7i3-60vkX",
        "outputId": "b42fded9-be80-46be-dfd1-910733957ee1"
      },
      "execution_count": 65,
      "outputs": [
        {
          "output_type": "stream",
          "name": "stderr",
          "text": [
            "2025-06-05 08:41:21,174 - INFO - Metrikák elmentve: artifacts/training_metrics.json\n"
          ]
        }
      ]
    },
    {
      "cell_type": "markdown",
      "source": [
        "## 8. Legjobb modell és vektorizáló mentése pickle-ben\n",
        "\n",
        "- A `best_vectorizer` és `best_model` objektumokat egy pickle-fájlba mentjük (artifacts/spam_model.pkl).  \n",
        "- A metadata mezőben szerepel a tanítás ideje, a modell neve, accuracy, AUC stb.\n"
      ],
      "metadata": {
        "id": "7vltOT5_0wUB"
      }
    },
    {
      "cell_type": "code",
      "source": [
        "os.makedirs('artifacts', exist_ok=True)\n",
        "artifact_path = os.path.join('artifacts', 'spam_model.pkl')\n",
        "\n",
        "model_data = {\n",
        "    'vectorizer': best_vectorizer,\n",
        "    'model': best_model,\n",
        "    'metadata': {\n",
        "        'trained_at': datetime.now().isoformat(),\n",
        "        'model_name': best_model_name,\n",
        "        'best_params': best_info['best_params'],\n",
        "        'accuracy': best_info['accuracy'],\n",
        "        'auc_roc': best_info['auc_score'],\n",
        "        'cv_score': best_info['cv_mean'],\n",
        "        'model_version': detailed_metrics['model_version']\n",
        "    }\n",
        "}\n",
        "\n",
        "with open(artifact_path, 'wb') as f:\n",
        "    pickle.dump(model_data, f)\n",
        "\n",
        "logger.info(f\"Legjobb modell sikeresen mentve: {artifact_path}\")\n"
      ],
      "metadata": {
        "colab": {
          "base_uri": "https://localhost:8080/"
        },
        "id": "6oKp65s30yLp",
        "outputId": "cc0d6236-6645-4f7a-c183-6099b48ebda9"
      },
      "execution_count": 66,
      "outputs": [
        {
          "output_type": "stream",
          "name": "stderr",
          "text": [
            "2025-06-05 08:41:25,620 - INFO - Legjobb modell sikeresen mentve: artifacts/spam_model.pkl\n"
          ]
        }
      ]
    }
  ]
}